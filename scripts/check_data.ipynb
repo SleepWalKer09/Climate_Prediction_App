{
 "cells": [
  {
   "cell_type": "code",
   "execution_count": 1,
   "metadata": {},
   "outputs": [
    {
     "data": {
      "text/plain": [
       "array([[1.        , 0.        , 0.        , ..., 0.60869565, 0.93333333,\n",
       "        0.63636364],\n",
       "       [0.        , 1.        , 0.        , ..., 0.47826087, 0.93333333,\n",
       "        0.63636364],\n",
       "       [0.        , 0.        , 1.        , ..., 0.43478261, 0.93333333,\n",
       "        0.63636364],\n",
       "       ...,\n",
       "       [0.        , 0.        , 0.        , ..., 0.91304348, 0.9       ,\n",
       "        0.        ],\n",
       "       [0.        , 0.        , 0.        , ..., 0.86956522, 0.9       ,\n",
       "        0.        ],\n",
       "       [0.        , 0.        , 0.        , ..., 0.86956522, 0.9       ,\n",
       "        0.        ]])"
      ]
     },
     "execution_count": 1,
     "metadata": {},
     "output_type": "execute_result"
    }
   ],
   "source": [
    "import numpy as np\n",
    "data = np.load('../dataset/dataset_preprocesado.npy')\n",
    "\n",
    "data"
   ]
  }
 ],
 "metadata": {
  "kernelspec": {
   "display_name": "Python 3",
   "language": "python",
   "name": "python3"
  },
  "language_info": {
   "codemirror_mode": {
    "name": "ipython",
    "version": 3
   },
   "file_extension": ".py",
   "mimetype": "text/x-python",
   "name": "python",
   "nbconvert_exporter": "python",
   "pygments_lexer": "ipython3",
   "version": "3.11.4"
  }
 },
 "nbformat": 4,
 "nbformat_minor": 2
}
